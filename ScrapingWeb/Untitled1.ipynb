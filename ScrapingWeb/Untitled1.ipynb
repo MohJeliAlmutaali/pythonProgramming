{
 "cells": [
  {
   "cell_type": "code",
   "execution_count": 7,
   "id": "0ba6dc99",
   "metadata": {},
   "outputs": [],
   "source": [
    "import requests\n",
    "import m3u8"
   ]
  },
  {
   "cell_type": "code",
   "execution_count": 8,
   "id": "cf644c79",
   "metadata": {},
   "outputs": [],
   "source": [
    "url = \"https://manifest.prod.boltdns.net/manifest/v1/hls/v4/clear/3588749423001/9a54515e-9a8c-43d1-8e82-aef7ac91361b/10s/master.m3u8?fastly_token=NjMzNzVmYjFfZDZlNjZiNWQ2ZjU5M2VlYThiZGNjOTUwNjEzOWRjNThmZGRlNWQ5MGYyZjhmYWFlOWViYjYxMmFiMjU2NmI5NQ%3D%3D&seq=12_0\""
   ]
  },
  {
   "cell_type": "code",
   "execution_count": 12,
   "id": "9ce9a149",
   "metadata": {},
   "outputs": [],
   "source": [
    "r = requests.get(url)\n",
    "m3u8_master = m3u8.loads(r.text)"
   ]
  },
  {
   "cell_type": "code",
   "execution_count": 15,
   "id": "21da6bf1",
   "metadata": {},
   "outputs": [],
   "source": [
    "playlist_url = m3u8_master.data['playlists'][0]['uri']"
   ]
  },
  {
   "cell_type": "code",
   "execution_count": 16,
   "id": "1665af6e",
   "metadata": {},
   "outputs": [],
   "source": [
    "r = requests.get(playlist_url)"
   ]
  },
  {
   "cell_type": "code",
   "execution_count": 17,
   "id": "eecc2cee",
   "metadata": {},
   "outputs": [],
   "source": [
    "playlist = m3u8.loads(r.text)"
   ]
  },
  {
   "cell_type": "code",
   "execution_count": 20,
   "id": "9155e326",
   "metadata": {},
   "outputs": [
    {
     "data": {
      "text/plain": [
       "'https://house-fastly-signed-eu-west-1-prod.brightcovecdn.com/media/v1/hls/v4/clear/3588749423001/9a54515e-9a8c-43d1-8e82-aef7ac91361b/7e6e2005-4af3-4665-b3e1-2e2155c98486/5x/segment0.ts?fastly_token=NjMzNzYzNWRfNDE0OWJhYjNhMmMyOWJiOTJjNzA5M2EyOWU4NjczMWVlY2M1OTI1MGI1OWQ1NGE3MDU5OWE2NjZmNmFkNjlmNF8vL2hvdXNlLWZhc3RseS1zaWduZWQtZXUtd2VzdC0xLXByb2QuYnJpZ2h0Y292ZWNkbi5jb20vbWVkaWEvdjEvaGxzL3Y0L2NsZWFyLzM1ODg3NDk0MjMwMDEvOWE1NDUxNWUtOWE4Yy00M2QxLThlODItYWVmN2FjOTEzNjFiLzdlNmUyMDA1LTRhZjMtNDY2NS1iM2UxLTJlMjE1NWM5ODQ4Ni8%3D'"
      ]
     },
     "execution_count": 20,
     "metadata": {},
     "output_type": "execute_result"
    }
   ],
   "source": [
    "playlist.data['segments'][0]['uri']"
   ]
  },
  {
   "cell_type": "code",
   "execution_count": 41,
   "id": "b5be1e38",
   "metadata": {},
   "outputs": [],
   "source": [
    "r = requests.get(playlist.data['segments'][0]['uri'])"
   ]
  },
  {
   "cell_type": "code",
   "execution_count": 42,
   "id": "1d9171d1",
   "metadata": {},
   "outputs": [],
   "source": [
    "with open(\"video.ts\", \"wb\") as f:\n",
    "    for segment in playlist.data['segments']:\n",
    "        url = segment['uri']\n",
    "        r = requests.get(url)\n",
    "        f.write(r.content)"
   ]
  },
  {
   "cell_type": "code",
   "execution_count": 43,
   "id": "af685651",
   "metadata": {},
   "outputs": [],
   "source": [
    "import subprocess"
   ]
  },
  {
   "cell_type": "code",
   "execution_count": 47,
   "id": "8f46c7ef",
   "metadata": {},
   "outputs": [
    {
     "name": "stderr",
     "output_type": "stream",
     "text": [
      "ffmpeg version 4.2.7-0ubuntu0.1 Copyright (c) 2000-2022 the FFmpeg developers\n",
      "  built with gcc 9 (Ubuntu 9.4.0-1ubuntu1~20.04.1)\n",
      "  configuration: --prefix=/usr --extra-version=0ubuntu0.1 --toolchain=hardened --libdir=/usr/lib/x86_64-linux-gnu --incdir=/usr/include/x86_64-linux-gnu --arch=amd64 --enable-gpl --disable-stripping --enable-avresample --disable-filter=resample --enable-avisynth --enable-gnutls --enable-ladspa --enable-libaom --enable-libass --enable-libbluray --enable-libbs2b --enable-libcaca --enable-libcdio --enable-libcodec2 --enable-libflite --enable-libfontconfig --enable-libfreetype --enable-libfribidi --enable-libgme --enable-libgsm --enable-libjack --enable-libmp3lame --enable-libmysofa --enable-libopenjpeg --enable-libopenmpt --enable-libopus --enable-libpulse --enable-librsvg --enable-librubberband --enable-libshine --enable-libsnappy --enable-libsoxr --enable-libspeex --enable-libssh --enable-libtheora --enable-libtwolame --enable-libvidstab --enable-libvorbis --enable-libvpx --enable-libwavpack --enable-libwebp --enable-libx265 --enable-libxml2 --enable-libxvid --enable-libzmq --enable-libzvbi --enable-lv2 --enable-omx --enable-openal --enable-opencl --enable-opengl --enable-sdl2 --enable-libdc1394 --enable-libdrm --enable-libiec61883 --enable-nvenc --enable-chromaprint --enable-frei0r --enable-libx264 --enable-shared\n",
      "  libavutil      56. 31.100 / 56. 31.100\n",
      "  libavcodec     58. 54.100 / 58. 54.100\n",
      "  libavformat    58. 29.100 / 58. 29.100\n",
      "  libavdevice    58.  8.100 / 58.  8.100\n",
      "  libavfilter     7. 57.100 /  7. 57.100\n",
      "  libavresample   4.  0.  0 /  4.  0.  0\n",
      "  libswscale      5.  5.100 /  5.  5.100\n",
      "  libswresample   3.  5.100 /  3.  5.100\n",
      "  libpostproc    55.  5.100 / 55.  5.100\n",
      "Input #0, mpegts, from 'video.ts':\n",
      "  Duration: 00:01:32.32, start: 0.000000, bitrate: 742 kb/s\n",
      "  Program 1 \n",
      "    Stream #0:0[0x102]: Video: h264 (Constrained Baseline) ([27][0][0][0] / 0x001B), yuv420p(tv, bt709, progressive), 640x360 [SAR 1:1 DAR 16:9], 25 fps, 25 tbr, 90k tbn, 50 tbc\n",
      "Stream mapping:\n",
      "  Stream #0:0 -> #0:0 (h264 (native) -> h264 (libx264))\n",
      "Press [q] to stop, [?] for help\n",
      "[libx264 @ 0x5594b3dbc100] using SAR=1/1\n",
      "[libx264 @ 0x5594b3dbc100] using cpu capabilities: MMX2 SSE2Fast LZCNT SSSE3 SSE4.2\n",
      "[libx264 @ 0x5594b3dbc100] profile High, level 3.0\n",
      "[libx264 @ 0x5594b3dbc100] 264 - core 155 r2917 0a84d98 - H.264/MPEG-4 AVC codec - Copyleft 2003-2018 - http://www.videolan.org/x264.html - options: cabac=1 ref=3 deblock=1:0:0 analyse=0x3:0x113 me=hex subme=7 psy=1 psy_rd=1.00:0.00 mixed_ref=1 me_range=16 chroma_me=1 trellis=1 8x8dct=1 cqm=0 deadzone=21,11 fast_pskip=1 chroma_qp_offset=-2 threads=3 lookahead_threads=1 sliced_threads=0 nr=0 decimate=1 interlaced=0 bluray_compat=0 constrained_intra=0 bframes=3 b_pyramid=2 b_adapt=1 b_bias=0 direct=1 weightb=1 open_gop=0 weightp=2 keyint=250 keyint_min=25 scenecut=40 intra_refresh=0 rc_lookahead=40 rc=crf mbtree=1 crf=23.0 qcomp=0.60 qpmin=0 qpmax=69 qpstep=4 ip_ratio=1.40 aq=1:1.00\n",
      "Output #0, mp4, to 'videok.mp4':\n",
      "  Metadata:\n",
      "    encoder         : Lavf58.29.100\n",
      "    Stream #0:0: Video: h264 (libx264) (avc1 / 0x31637661), yuv420p, 640x360 [SAR 1:1 DAR 16:9], q=-1--1, 25 fps, 12800 tbn, 25 tbc\n",
      "    Metadata:\n",
      "      encoder         : Lavc58.54.100 libx264\n",
      "    Side data:\n",
      "      cpb: bitrate max/min/avg: 0/0/0 buffer size: 0 vbv_delay: -1\n",
      "frame= 2308 fps= 84 q=-1.0 Lsize=    5665kB time=00:01:32.20 bitrate= 503.3kbits/s speed=3.37x    \n",
      "video:5638kB audio:0kB subtitle:0kB other streams:0kB global headers:0kB muxing overhead: 0.476568%\n",
      "[libx264 @ 0x5594b3dbc100] frame I:10    Avg QP:20.09  size: 46222\n",
      "[libx264 @ 0x5594b3dbc100] frame P:764   Avg QP:23.03  size:  5876\n",
      "[libx264 @ 0x5594b3dbc100] frame B:1534  Avg QP:30.39  size:   535\n",
      "[libx264 @ 0x5594b3dbc100] consecutive B-frames:  9.1%  4.7%  6.5% 79.7%\n",
      "[libx264 @ 0x5594b3dbc100] mb I  I16..4: 14.6%  8.6% 76.8%\n",
      "[libx264 @ 0x5594b3dbc100] mb P  I16..4:  2.2%  1.4%  0.6%  P16..4: 33.0% 12.6%  9.0%  0.0%  0.0%    skip:41.1%\n",
      "[libx264 @ 0x5594b3dbc100] mb B  I16..4:  0.2%  0.2%  0.1%  B16..8: 28.0%  3.0%  0.7%  direct: 0.7%  skip:67.2%  L0:47.5% L1:47.6% BI: 4.9%\n",
      "[libx264 @ 0x5594b3dbc100] 8x8 transform intra:29.2% inter:25.2%\n",
      "[libx264 @ 0x5594b3dbc100] coded y,uvDC,uvAC intra: 39.6% 71.6% 34.3% inter: 8.5% 8.7% 1.9%\n",
      "[libx264 @ 0x5594b3dbc100] i16 v,h,dc,p: 14% 53%  9% 25%\n",
      "[libx264 @ 0x5594b3dbc100] i8 v,h,dc,ddl,ddr,vr,hd,vl,hu: 27% 25% 29%  3%  3%  4%  4%  3%  3%\n",
      "[libx264 @ 0x5594b3dbc100] i4 v,h,dc,ddl,ddr,vr,hd,vl,hu: 26% 36% 11%  4%  4%  5%  5%  5%  5%\n",
      "[libx264 @ 0x5594b3dbc100] i8c dc,h,v,p: 32% 45% 14%  9%\n",
      "[libx264 @ 0x5594b3dbc100] Weighted P-Frames: Y:1.6% UV:1.4%\n",
      "[libx264 @ 0x5594b3dbc100] ref P L0: 73.8%  8.1% 14.0%  4.0%  0.0%\n",
      "[libx264 @ 0x5594b3dbc100] ref B L0: 87.1% 11.2%  1.7%\n",
      "[libx264 @ 0x5594b3dbc100] ref B L1: 94.8%  5.2%\n",
      "[libx264 @ 0x5594b3dbc100] kb/s:500.21\n"
     ]
    },
    {
     "data": {
      "text/plain": [
       "CompletedProcess(args=['ffmpeg', '-i', 'video.ts', '-c:v', 'libx264', 'videok.mp4'], returncode=0)"
      ]
     },
     "execution_count": 47,
     "metadata": {},
     "output_type": "execute_result"
    }
   ],
   "source": [
    "subprocess.run(['ffmpeg','-i','video.ts','-c:v','libx264','videok.mp4'])"
   ]
  },
  {
   "cell_type": "code",
   "execution_count": null,
   "id": "d45dcf71",
   "metadata": {},
   "outputs": [],
   "source": []
  }
 ],
 "metadata": {
  "kernelspec": {
   "display_name": "Python 3 (ipykernel)",
   "language": "python",
   "name": "python3"
  },
  "language_info": {
   "codemirror_mode": {
    "name": "ipython",
    "version": 3
   },
   "file_extension": ".py",
   "mimetype": "text/x-python",
   "name": "python",
   "nbconvert_exporter": "python",
   "pygments_lexer": "ipython3",
   "version": "3.8.10"
  }
 },
 "nbformat": 4,
 "nbformat_minor": 5
}
